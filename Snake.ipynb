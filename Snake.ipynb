{
  "nbformat": 4,
  "nbformat_minor": 0,
  "metadata": {
    "colab": {
      "name": "Snake.ipynb",
      "provenance": [],
      "authorship_tag": "ABX9TyMHI/FoEDkMVGitt+3jbNuS",
      "include_colab_link": true
    },
    "kernelspec": {
      "name": "python3",
      "display_name": "Python 3"
    },
    "language_info": {
      "name": "python"
    }
  },
  "cells": [
    {
      "cell_type": "markdown",
      "metadata": {
        "id": "view-in-github",
        "colab_type": "text"
      },
      "source": [
        "<a href=\"https://colab.research.google.com/github/pr0-dm/Pygame/blob/main/Snake.ipynb\" target=\"_parent\"><img src=\"https://colab.research.google.com/assets/colab-badge.svg\" alt=\"Open In Colab\"/></a>"
      ]
    },
    {
      "cell_type": "markdown",
      "source": [
        "#pyth.club Старт,\n",
        " пишем змейку"
      ],
      "metadata": {
        "id": "fM3lmWOJyHQf"
      }
    },
    {
      "cell_type": "code",
      "execution_count": 18,
      "metadata": {
        "colab": {
          "base_uri": "https://localhost:8080/",
          "height": 130
        },
        "id": "eSgFwB-MyGI2",
        "outputId": "dd260d33-52bb-48d5-f921-070deaa0ddec"
      },
      "outputs": [
        {
          "output_type": "error",
          "ename": "IndentationError",
          "evalue": "ignored",
          "traceback": [
            "\u001b[0;36m  File \u001b[0;32m\"<tokenize>\"\u001b[0;36m, line \u001b[0;32m41\u001b[0m\n\u001b[0;31m    key = pygame.key.get_pressed()\u001b[0m\n\u001b[0m    ^\u001b[0m\n\u001b[0;31mIndentationError\u001b[0m\u001b[0;31m:\u001b[0m unindent does not match any outer indentation level\n"
          ]
        }
      ],
      "source": [
        "import sys, pygame\n",
        "pygame.init()\n",
        "from random import randrange\n",
        "#constants\n",
        "WINDOW_SIZE = WINDOW_WIDTH, WINDOW_HEIGHT = (300,300) \n",
        "OBJECT_SIZE = 10\n",
        "# Переменные и инициализация\n",
        "\n",
        "pygame.display.set_mode(WINDOW_SIZE) \n",
        "screen = pygame.display.set_mode(WINDOW_SIZE)\n",
        "x = randrange(0, WINDOW_WIDTH, OBJECT_SIZE) \n",
        "y = randrange(0, WINDOW_HEIGHT, OBJECT_SIZE)\n",
        "body_snake = [(x, y)]\n",
        "length_snake = 1\n",
        "dx, dy = 0, 0 \n",
        "fps = 7\n",
        "apple = randrange(0, WINDOW_WIDTH, OBJECT_SIZE), randrange(0, WINDOW_HEIGHT, OBJECT_SIZE) \n",
        "\n",
        "# Словарь движения\n",
        "traffic_dict = {\"W\": (0, -1), \"S\": (0,1), \"A\": (-1,0), \"D\": (1,0)}\n",
        "\n",
        "# Цикл программы \n",
        "while True: \n",
        "  # Показ экрана и закраска его в черный цвет \n",
        "  screen.fill(pygame.Color('black'))\n",
        "  #отрисовка змейки\n",
        "  for i,j in body_snake:\n",
        "    pygame.draw.rect(screen,pygame.color('green')),(i,j, OBJECT_SIZE,OBJECT_SIZE)\n",
        "    pygame.draw.rect(screen, pygame.Color('red'), (*apple, OBJECT_SIZE, OBJECT_SIZE))\n",
        "    #change place\n",
        "    x += dx * OBJECT_SIZE\n",
        "    y += dy * OBJECT_SIZE\n",
        "    body_snake.append((x, y))\n",
        "    body_snake = body_snake[-length_snake:]\n",
        "    # Поедание яблока\n",
        "if body_snake[-1] == apple:\n",
        "    apple = randrange(0, WINDOW_WIDTH, OBJECT_SIZE), randrange(0, WINDOW_HEIGHT, OBJECT_SIZE)\n",
        "    length_snake += 1\n",
        "    fps += 1\n",
        "  #modul identification bottoms\n",
        "  key = pygame.key.get_pressed()\n",
        "  # Условия движения\n",
        "if key[pygame.K_w] and (dx, dy) != traffic_dict[\"S\"]:\n",
        "    dx, dy = traffic_dict[\"W\"]\n",
        "    if key[pygame.K_w] and (dx, dy) != traffic_dict[\"W\"]:\n",
        "    dx, dy = traffic_dict[\"S\"]\n",
        "    if key[pygame.K_w] and (dx, dy) != traffic_dict[\"D\"]:\n",
        "    dx, dy = traffic_dict[\"A\"]\n",
        "    if key[pygame.K_w] and (dx, dy) != traffic_dict[\"A\"]:\n",
        "    dx, dy = traffic_dict[\"D\"]\n",
        "          # Выход за границы экрана\n",
        "    if x <0 or x > WINDOW_WIDTH or y < 0 or y > WINDOW_HEIGHT:\n",
        "    break\n",
        "    # Поедание змейкой самой себя\n",
        "if len(body_snake) != len(set(body_snake)):\n",
        "    break\n",
        "  # условие закрытия программы\n",
        "  for event in pygame.event.get():\n",
        "      if event.type == pygame.quit:\n",
        "        exit()\n",
        "  # Обновление экрана \n",
        "  pygame.display.flip()\n",
        "  clock = pygame.time.clock()\n",
        "   # Количество раз выполнения цикла в секунду \n",
        "   clock.tick(2*fps) \n",
        "\n",
        "\n",
        "\n",
        "\n"
      ]
    }
  ]
}
